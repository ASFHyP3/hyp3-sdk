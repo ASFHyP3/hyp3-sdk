{
 "cells": [
  {
   "cell_type": "markdown",
   "source": [
    "# Using the HyP3 SDK to change a job name\n",
    "Starting in HyP3 SDK version 7.3.0 , you can use the SDK to rename existing jobs with the `update_job` and `update_jobs` HyP3 class methods. This short tutorial will walk you through the steps to rename a single job with `update_job` and a job batch with `update_jobs`. \n",
    "First, let's make sure the available SDK version is up-to-date and import the sdk. "
   ],
   "metadata": {
    "collapsed": false
   },
   "id": "a28dd5bd630712ed"
  },
  {
   "cell_type": "code",
   "outputs": [],
   "source": [
    "!pip install 'hyp3-sdk>=7.3.0' \n",
    "\n",
    "import hyp3_sdk as sdk"
   ],
   "metadata": {
    "collapsed": false
   },
   "id": "260d2242bb761a6"
  },
  {
   "cell_type": "markdown",
   "source": [
    "We will submit a couple of jobs for this demonstration. Feel free to skip this step if you have existing job ids and/or job names you are looking to rename. The following code block will cost 1 HyP3 credit. "
   ],
   "metadata": {
    "collapsed": false
   },
   "id": "351cb84f05ad7a04"
  },
  {
   "cell_type": "code",
   "outputs": [],
   "source": [
    "hyp3 = sdk.HyP3(prompt=True)\n",
    "\n",
    "project_name = 'renameDemo'\n",
    "reference = 'S1_136231_IW2_20200604T022312_VV_7C85-BURST'\n",
    "secondary = 'S1_136231_IW2_20200616T022313_VV_5D11-BURST'\n",
    "\n",
    "jobs = sdk.Batch()\n",
    "while len(jobs<4):\n",
    "    jobs += hyp3.submit_insar_isce_burst_job(\n",
    "        granule1 = reference,\n",
    "        granule2 = secondary, \n",
    "        apply_water_mask = False,\n",
    "        name = project_name,\n",
    "        looks = '20x4'\n",
    "    )"
   ],
   "metadata": {
    "collapsed": false
   },
   "id": "f5a8b77a64cef7a4"
  },
  {
   "cell_type": "markdown",
   "source": [
    "### Change the name of a single job\n",
    "If you have the job id for a specific job you are looking to update, you can use [`get_job_by_id`](https://hyp3-docs.asf.alaska.edu/using/sdk_api/#hyp3_sdk.HyP3.get_job_by_id)and pass the job object to `update_job`. "
   ],
   "metadata": {
    "collapsed": false
   },
   "id": "b64c699663f27008"
  },
  {
   "cell_type": "code",
   "outputs": [],
   "source": [
    "job = hyp3.get_job_by_id('0891f73e-b4ca-4eb9-95c9-461b3bff061a')\n",
    "batch = hyp3.update_job(job, name='myNewName')"
   ],
   "metadata": {
    "collapsed": false
   },
   "id": "7b31a4376d155a35"
  },
  {
   "cell_type": "markdown",
   "source": [
    "Note, that updating the job name does not have to be a new string. You can also remove the existing job name by setting the new name to `None`. "
   ],
   "metadata": {
    "collapsed": false
   },
   "id": "881e0bc0b642a6de"
  },
  {
   "cell_type": "code",
   "outputs": [],
   "source": [
    "batch = hyp3.update_jobs(job, name=None)"
   ],
   "metadata": {
    "collapsed": false
   },
   "id": "5e03801ac16ae9c4"
  },
  {
   "cell_type": "markdown",
   "source": [
    "### Change the name of multiple jobs in a batch\n",
    "You can search for a batch of jobs using [`find_jobs`](https://hyp3-docs.asf.alaska.edu/using/sdk_api/#hyp3_sdk.HyP3.find_jobs) if you are looking to update a collection of jobs.\n",
    "\n",
    "If you are looking to rename all jobs with a specific name, you could do so by searching for all jobs with that name."
   ],
   "metadata": {
    "collapsed": false
   },
   "id": "5ab82b3f421bb0d5"
  },
  {
   "cell_type": "code",
   "outputs": [],
   "source": [
    "batch = hyp3.find_jobs(name='myOldName')\n",
    "batch = hyp3.update_jobs(batch, name='myNewName')\n",
    "batch = hyp3.update_jobs(batch, name=None)"
   ],
   "metadata": {
    "collapsed": false
   },
   "id": "e3dad45cb3518243"
  },
  {
   "cell_type": "markdown",
   "source": [
    "For a fresh start, you can search for all jobs submitted since a certain date and set all names to `None`. "
   ],
   "metadata": {
    "collapsed": false
   },
   "id": "d49d01eb3f7f713a"
  },
  {
   "cell_type": "code",
   "outputs": [],
   "source": [
    "batch = hyp3.find_jobs(start='2025-03-27T00:00:00Z')\n",
    "batch = hyp3.update_jobs(batch, name=None)"
   ],
   "metadata": {
    "collapsed": false
   },
   "id": "9c4edd44b135b842"
  }
 ],
 "metadata": {
  "kernelspec": {
   "display_name": "Python 3",
   "language": "python",
   "name": "python3"
  },
  "language_info": {
   "codemirror_mode": {
    "name": "ipython",
    "version": 2
   },
   "file_extension": ".py",
   "mimetype": "text/x-python",
   "name": "python",
   "nbconvert_exporter": "python",
   "pygments_lexer": "ipython2",
   "version": "2.7.6"
  }
 },
 "nbformat": 4,
 "nbformat_minor": 5
}
