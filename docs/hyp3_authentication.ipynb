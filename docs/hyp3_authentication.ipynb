{
 "cells": [
  {
   "cell_type": "markdown",
   "id": "c71ac86b03faa125",
   "metadata": {
    "collapsed": false
   },
   "source": [
    "# Authenticating a HyP3 Session with the SDK\n",
    "\n",
    "When initializing a HyP3 object with the HyP3 SDK, you have three options:\n",
    "1. Input your EDL username and password\n",
    "2. Input your EDL Bearer Token\n",
    "3. Store your credentials locally in a .netrc file in your home directory\n",
    "\n",
    "This tutorial will walk you through each of these authentication methods. If you have not created an Earthdata Login account yet, make sure to do so here: https://urs.earthdata.nasa.gov/users/new.\n",
    "\n",
    "Likewise, before starting, make sure you have `hyp3-sdk` installed locally and ensure the version is >=7.6.0."
   ]
  },
  {
   "cell_type": "code",
   "execution_count": 1,
   "id": "6b0bbf63de13b184",
   "metadata": {
    "collapsed": false,
    "ExecuteTime": {
     "end_time": "2025-06-16T23:40:25.728409Z",
     "start_time": "2025-06-16T23:40:25.582730Z"
    }
   },
   "outputs": [
    {
     "name": "stdout",
     "output_type": "stream",
     "text": [
      "zsh:1: 7.6.0 not found\r\n",
      "Note: you may need to restart the kernel to use updated packages.\n"
     ]
    }
   ],
   "source": [
    "pip install hyp3-sdk>=7.7.0"
   ]
  },
  {
   "cell_type": "code",
   "execution_count": 2,
   "outputs": [],
   "source": [
    "import hyp3_sdk as sdk"
   ],
   "metadata": {
    "collapsed": false,
    "ExecuteTime": {
     "end_time": "2025-06-16T23:53:34.913852Z",
     "start_time": "2025-06-16T23:53:34.836859Z"
    }
   },
   "id": "a38df62d8552468b"
  },
  {
   "cell_type": "markdown",
   "id": "6a29e00aa30bdf90",
   "metadata": {
    "collapsed": false
   },
   "source": [
    "## Using your username and password\n",
    "This option requires minimal amount of set up. All you need is to know your EDL username and password. You can either prompt for a username and password by passing `password` in as `prompt`:"
   ]
  },
  {
   "cell_type": "code",
   "execution_count": 3,
   "id": "3fa21cf01ff3ca32",
   "metadata": {
    "collapsed": false,
    "ExecuteTime": {
     "end_time": "2025-06-16T23:53:52.610264Z",
     "start_time": "2025-06-16T23:53:39.162989Z"
    }
   },
   "outputs": [],
   "source": [
    "HyP3 = sdk.HyP3(prompt='password')"
   ]
  },
  {
   "cell_type": "markdown",
   "id": "1095f5668639490b",
   "metadata": {
    "collapsed": false
   },
   "source": [
    "Or pass them directly:"
   ]
  },
  {
   "cell_type": "code",
   "execution_count": 4,
   "id": "f2b96d74e0d60fc1",
   "metadata": {
    "collapsed": false,
    "ExecuteTime": {
     "end_time": "2025-06-17T21:56:01.469358Z",
     "start_time": "2025-06-17T21:56:00.323487Z"
    }
   },
   "outputs": [
    {
     "ename": "AuthenticationError",
     "evalue": "Was not able to authenticate with username and password provided\nThis could be due to invalid credentials or a connection error.",
     "output_type": "error",
     "traceback": [
      "\u001B[0;31m---------------------------------------------------------------------------\u001B[0m",
      "\u001B[0;31mHTTPError\u001B[0m                                 Traceback (most recent call last)",
      "File \u001B[0;32m~/GitHub/hyp3-sdk/src/hyp3_sdk/util.py:114\u001B[0m, in \u001B[0;36mget_authenticated_session\u001B[0;34m(username, password, token)\u001B[0m\n\u001B[1;32m    113\u001B[0m \u001B[38;5;28;01mtry\u001B[39;00m:\n\u001B[0;32m--> 114\u001B[0m     \u001B[43mresponse\u001B[49m\u001B[38;5;241;43m.\u001B[39;49m\u001B[43mraise_for_status\u001B[49m\u001B[43m(\u001B[49m\u001B[43m)\u001B[49m\n\u001B[1;32m    115\u001B[0m \u001B[38;5;28;01mexcept\u001B[39;00m requests\u001B[38;5;241m.\u001B[39mHTTPError:\n",
      "File \u001B[0;32m~/opt/miniconda3/envs/asf-tools/lib/python3.11/site-packages/requests/models.py:1021\u001B[0m, in \u001B[0;36mResponse.raise_for_status\u001B[0;34m(self)\u001B[0m\n\u001B[1;32m   1020\u001B[0m \u001B[38;5;28;01mif\u001B[39;00m http_error_msg:\n\u001B[0;32m-> 1021\u001B[0m     \u001B[38;5;28;01mraise\u001B[39;00m HTTPError(http_error_msg, response\u001B[38;5;241m=\u001B[39m\u001B[38;5;28mself\u001B[39m)\n",
      "\u001B[0;31mHTTPError\u001B[0m: 401 Client Error: Unauthorized for url: https://urs.earthdata.nasa.gov/oauth/authorize?response_type=code&client_id=BO_n7nTIlMljdvU6kRRB3g&redirect_uri=https://auth.asf.alaska.edu/login&app_type=401",
      "\nDuring handling of the above exception, another exception occurred:\n",
      "\u001B[0;31mAuthenticationError\u001B[0m                       Traceback (most recent call last)",
      "Cell \u001B[0;32mIn[4], line 4\u001B[0m\n\u001B[1;32m      1\u001B[0m username \u001B[38;5;241m=\u001B[39m \u001B[38;5;124m'\u001B[39m\u001B[38;5;124mmyusername\u001B[39m\u001B[38;5;124m'\u001B[39m\n\u001B[1;32m      2\u001B[0m password \u001B[38;5;241m=\u001B[39m \u001B[38;5;124m'\u001B[39m\u001B[38;5;124mmypassword\u001B[39m\u001B[38;5;124m'\u001B[39m\n\u001B[0;32m----> 4\u001B[0m HyP3 \u001B[38;5;241m=\u001B[39m \u001B[43msdk\u001B[49m\u001B[38;5;241;43m.\u001B[39;49m\u001B[43mHyP3\u001B[49m\u001B[43m(\u001B[49m\u001B[43musername\u001B[49m\u001B[38;5;241;43m=\u001B[39;49m\u001B[43musername\u001B[49m\u001B[43m,\u001B[49m\u001B[43m \u001B[49m\u001B[43mpassword\u001B[49m\u001B[38;5;241;43m=\u001B[39;49m\u001B[43mpassword\u001B[49m\u001B[43m)\u001B[49m\n",
      "File \u001B[0;32m~/GitHub/hyp3-sdk/src/hyp3_sdk/hyp3.py:68\u001B[0m, in \u001B[0;36mHyP3.__init__\u001B[0;34m(self, api_url, username, password, token, prompt)\u001B[0m\n\u001B[1;32m     65\u001B[0m \u001B[38;5;28;01mif\u001B[39;00m prompt \u001B[38;5;241m==\u001B[39m \u001B[38;5;124m'\u001B[39m\u001B[38;5;124mtoken\u001B[39m\u001B[38;5;124m'\u001B[39m \u001B[38;5;129;01mand\u001B[39;00m token \u001B[38;5;129;01mis\u001B[39;00m \u001B[38;5;28;01mNone\u001B[39;00m:\n\u001B[1;32m     66\u001B[0m     token \u001B[38;5;241m=\u001B[39m getpass(\u001B[38;5;124m'\u001B[39m\u001B[38;5;124mNASA Earthdata Login bearer token: \u001B[39m\u001B[38;5;124m'\u001B[39m)\n\u001B[0;32m---> 68\u001B[0m \u001B[38;5;28mself\u001B[39m\u001B[38;5;241m.\u001B[39msession \u001B[38;5;241m=\u001B[39m \u001B[43mhyp3_sdk\u001B[49m\u001B[38;5;241;43m.\u001B[39;49m\u001B[43mutil\u001B[49m\u001B[38;5;241;43m.\u001B[39;49m\u001B[43mget_authenticated_session\u001B[49m\u001B[43m(\u001B[49m\u001B[43musername\u001B[49m\u001B[43m,\u001B[49m\u001B[43m \u001B[49m\u001B[43mpassword\u001B[49m\u001B[43m,\u001B[49m\u001B[43m \u001B[49m\u001B[43mtoken\u001B[49m\u001B[43m)\u001B[49m\n\u001B[1;32m     69\u001B[0m \u001B[38;5;28mself\u001B[39m\u001B[38;5;241m.\u001B[39msession\u001B[38;5;241m.\u001B[39mheaders\u001B[38;5;241m.\u001B[39mupdate({\u001B[38;5;124m'\u001B[39m\u001B[38;5;124mUser-Agent\u001B[39m\u001B[38;5;124m'\u001B[39m: \u001B[38;5;124mf\u001B[39m\u001B[38;5;124m'\u001B[39m\u001B[38;5;132;01m{\u001B[39;00mhyp3_sdk\u001B[38;5;241m.\u001B[39m\u001B[38;5;18m__name__\u001B[39m\u001B[38;5;132;01m}\u001B[39;00m\u001B[38;5;124m/\u001B[39m\u001B[38;5;132;01m{\u001B[39;00mhyp3_sdk\u001B[38;5;241m.\u001B[39m__version__\u001B[38;5;132;01m}\u001B[39;00m\u001B[38;5;124m'\u001B[39m})\n\u001B[1;32m     71\u001B[0m hostname \u001B[38;5;241m=\u001B[39m urlsplit(\u001B[38;5;28mself\u001B[39m\u001B[38;5;241m.\u001B[39murl)\u001B[38;5;241m.\u001B[39mhostname\n",
      "File \u001B[0;32m~/GitHub/hyp3-sdk/src/hyp3_sdk/util.py:116\u001B[0m, in \u001B[0;36mget_authenticated_session\u001B[0;34m(username, password, token)\u001B[0m\n\u001B[1;32m    114\u001B[0m     response\u001B[38;5;241m.\u001B[39mraise_for_status()\n\u001B[1;32m    115\u001B[0m \u001B[38;5;28;01mexcept\u001B[39;00m requests\u001B[38;5;241m.\u001B[39mHTTPError:\n\u001B[0;32m--> 116\u001B[0m     \u001B[38;5;28;01mraise\u001B[39;00m AuthenticationError(auth_error_message)\n\u001B[1;32m    118\u001B[0m \u001B[38;5;28;01mreturn\u001B[39;00m s\n",
      "\u001B[0;31mAuthenticationError\u001B[0m: Was not able to authenticate with username and password provided\nThis could be due to invalid credentials or a connection error."
     ]
    }
   ],
   "source": [
    "username = 'myusername'\n",
    "password = 'mypassword'\n",
    "\n",
    "HyP3 = sdk.HyP3(username=username, password=password)"
   ]
  },
  {
   "cell_type": "markdown",
   "id": "4d0b9fa22a7d6aa",
   "metadata": {
    "collapsed": false
   },
   "source": [
    "## Using your EDL Bearer Token\n",
    "Alternatively, you can authenticate your HyP3 object using your EDL token. Follow this documentation to create one: https://urs.earthdata.nasa.gov/documentation/for_users/user_token.\n",
    "\n",
    "Once that token is set up, prompt for an EDL token:"
   ]
  },
  {
   "cell_type": "code",
   "execution_count": null,
   "outputs": [],
   "source": [
    "HyP3 = sdk.HyP3(prompt='token')"
   ],
   "metadata": {
    "collapsed": false,
    "ExecuteTime": {
     "end_time": "2025-06-17T21:56:01.472320Z",
     "start_time": "2025-06-17T21:56:01.472213Z"
    }
   },
   "id": "7805f87763471220"
  },
  {
   "cell_type": "markdown",
   "source": [
    "Or pass it directly:"
   ],
   "metadata": {
    "collapsed": false
   },
   "id": "19f255f3f2c1a7c4"
  },
  {
   "cell_type": "code",
   "execution_count": null,
   "id": "ae92262a7e05b711",
   "metadata": {
    "collapsed": false,
    "ExecuteTime": {
     "start_time": "2025-06-17T21:56:01.474459Z"
    }
   },
   "outputs": [],
   "source": [
    "token = 'mytoken'\n",
    "HyP3 = sdk.HyP3(token=token)"
   ]
  },
  {
   "cell_type": "markdown",
   "id": "c9fd77b21a1122bb",
   "metadata": {
    "collapsed": false
   },
   "source": [
    "## Using a local .netrc file\n",
    "This option take a bit more effort to set up but saves time in the long run. You will create a .netrc file in your local home directory. \n",
    "\n",
    "You can do this by running the following commands, replacing `USER` and `PASSWORD` with your EDL username and password:"
   ]
  },
  {
   "cell_type": "code",
   "execution_count": null,
   "id": "561b0abd53726fec",
   "metadata": {
    "collapsed": false,
    "ExecuteTime": {
     "end_time": "2025-06-17T21:56:01.476241Z",
     "start_time": "2025-06-17T21:56:01.476137Z"
    }
   },
   "outputs": [],
   "source": [
    "%%bash\n",
    "echo 'machine urs.earthdata.nasa.gov login USER password PASSWORD' > ~/.netrc\n",
    "chmod 0600 ~/.netrc"
   ]
  },
  {
   "cell_type": "markdown",
   "id": "27ee6339a540cb39",
   "metadata": {
    "collapsed": false
   },
   "source": [
    "Now, when you initialize the HyP3 object, your credentials will be pulled from the .netrc file:"
   ]
  },
  {
   "cell_type": "code",
   "execution_count": null,
   "id": "e7bb4b87181a5660",
   "metadata": {
    "collapsed": false
   },
   "outputs": [],
   "source": [
    "HyP3 = sdk.HyP3()"
   ]
  }
 ],
 "metadata": {
  "kernelspec": {
   "display_name": "Python 3",
   "language": "python",
   "name": "python3"
  },
  "language_info": {
   "codemirror_mode": {
    "name": "ipython",
    "version": 2
   },
   "file_extension": ".py",
   "mimetype": "text/x-python",
   "name": "python",
   "nbconvert_exporter": "python",
   "pygments_lexer": "ipython2",
   "version": "2.7.6"
  }
 },
 "nbformat": 4,
 "nbformat_minor": 5
}
