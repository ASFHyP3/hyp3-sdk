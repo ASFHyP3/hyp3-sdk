{
 "cells": [
  {
   "cell_type": "markdown",
   "id": "c71ac86b03faa125",
   "metadata": {
    "collapsed": false
   },
   "source": [
    "# Authenticating a HyP3 Session with the SDK\n",
    "\n",
    "To access most HyP3 functions, you must authenticate using\n",
    "[Earthdata Login (EDL)](https://urs.earthdata.nasa.gov/) credentials.\n",
    "\n",
    "When initializing a HyP3 object with the HyP3 SDK, you have three authentication options:\n",
    "1. Input your EDL username and password\n",
    "2. Input your EDL Bearer Token\n",
    "3. Store your credentials locally in a .netrc file in your home directory\n",
    "\n",
    "This tutorial will walk you through each of these authentication methods. You can also refer to our\n",
    "[authentication documentation](https://hyp3-docs.asf.alaska.edu/using/authentication/) to learn more about HyP3 authentication.\n",
    "\n",
    "If you have not created an Earthdata Login account yet, you can do so here:\n",
    "[https://urs.earthdata.nasa.gov/users/new](https://urs.earthdata.nasa.gov/users/new)"
   ]
  },
  {
   "cell_type": "markdown",
   "id": "9a6d6beb7a378045",
   "metadata": {
    "collapsed": false
   },
   "source": [
    "## Installing hyp3-sdk\n",
    "\n",
    "Before working through this notebook, make sure you have the `hyp3-sdk` Python package installed locally and\n",
    "ensure the version is >=7.7.0.\n",
    "\n",
    "If `hyp3-sdk` is not installed, you can run the next code cell to pip install it.\n",
    "Refer to the [SDK Example notebook](https://github.com/ASFHyP3/hyp3-sdk/blob/main/docs/sdk_example.ipynb)\n",
    "for more information on installation options."
   ]
  },
  {
   "cell_type": "code",
   "execution_count": null,
   "id": "6b0bbf63de13b184",
   "metadata": {
    "collapsed": false
   },
   "outputs": [],
   "source": [
    "!pip install 'hyp3-sdk>=7.7.0'"
   ]
  },
  {
   "cell_type": "markdown",
   "source": [
    "Import the `hyp3_sdk` module."
   ],
   "metadata": {
    "collapsed": false
   },
   "id": "eb39ae640277c6d3"
  },
  {
   "cell_type": "code",
   "execution_count": null,
   "id": "a38df62d8552468b",
   "metadata": {
    "collapsed": false
   },
   "outputs": [],
   "source": [
    "import hyp3_sdk as sdk"
   ]
  },
  {
   "cell_type": "markdown",
   "id": "6a29e00aa30bdf90",
   "metadata": {
    "collapsed": false
   },
   "source": [
    "## Using your EDL Username and Password\n",
    "This option requires minimal set up. All you need is to know your\n",
    "[EDL username and password](https://hyp3-docs.asf.alaska.edu/using/authentication/#username-and-password). \n",
    "\n",
    "You can either prompt for a username and password by passing `password` in as `prompt`:"
   ]
  },
  {
   "cell_type": "code",
   "execution_count": null,
   "id": "3fa21cf01ff3ca32",
   "metadata": {
    "collapsed": false
   },
   "outputs": [],
   "source": [
    "hyp3 = sdk.HyP3(prompt='password')"
   ]
  },
  {
   "cell_type": "markdown",
   "id": "1095f5668639490b",
   "metadata": {
    "collapsed": false
   },
   "source": [
    "or pass them directly:"
   ]
  },
  {
   "cell_type": "code",
   "execution_count": null,
   "id": "f2b96d74e0d60fc1",
   "metadata": {
    "collapsed": false
   },
   "outputs": [],
   "source": [
    "username = 'myusername'\n",
    "password = 'mypassword'\n",
    "\n",
    "hyp3 = sdk.HyP3(username=username, password=password)"
   ]
  },
  {
   "cell_type": "markdown",
   "id": "4d0b9fa22a7d6aa",
   "metadata": {
    "collapsed": false
   },
   "source": [
    "## Using an EDL Bearer Token\n",
    "Alternatively, you can authenticate your HyP3 object using an EDL token. Follow this documentation to create one: [https://urs.earthdata.nasa.gov/documentation/for_users/user_token](https://urs.earthdata.nasa.gov/documentation/for_users/user_token)\n",
    "\n",
    "Once you have an EDL token, you can prompt for it by passing `token` in as `prompt`:"
   ]
  },
  {
   "cell_type": "code",
   "execution_count": null,
   "id": "7805f87763471220",
   "metadata": {
    "collapsed": false
   },
   "outputs": [],
   "source": [
    "hyp3 = sdk.HyP3(prompt='token')"
   ]
  },
  {
   "cell_type": "markdown",
   "id": "19f255f3f2c1a7c4",
   "metadata": {
    "collapsed": false
   },
   "source": [
    "or pass it directly:"
   ]
  },
  {
   "cell_type": "code",
   "execution_count": null,
   "id": "ae92262a7e05b711",
   "metadata": {
    "collapsed": false
   },
   "outputs": [],
   "source": [
    "token = 'mytoken'\n",
    "hyp3 = sdk.HyP3(token=token)"
   ]
  },
  {
   "cell_type": "markdown",
   "id": "c9fd77b21a1122bb",
   "metadata": {
    "collapsed": false
   },
   "source": [
    "## Using a Local .netrc File\n",
    "This option takes a bit more effort to set up, but saves time in the long run.\n",
    "By adding your credentials to the .netrc file saved in your local home directory, they can be pulled automatically\n",
    "when initializing the HyP3 object with the HyP3 SDK."
   ]
  },
  {
   "cell_type": "markdown",
   "source": [
    "You can add your credentials to a .netrc file programmatically.\n",
    "This approach first looks for an existing .netrc file and appends the credentials to it.\n",
    "If you don't already have a .netrc file, it will add one to your local home directory.\n",
    "\n",
    "Run the code cell below, replacing `USER` and `PASSWORD` with your EDL username and password:"
   ],
   "metadata": {
    "collapsed": false
   },
   "id": "2b778c7c7c48074e"
  },
  {
   "cell_type": "code",
   "execution_count": null,
   "id": "561b0abd53726fec",
   "metadata": {
    "collapsed": false
   },
   "outputs": [],
   "source": [
    "%%bash\n",
    "echo 'machine urs.earthdata.nasa.gov login USER password PASSWORD' > ~/.netrc\n",
    "chmod 0600 ~/.netrc"
   ]
  },
  {
   "cell_type": "markdown",
   "id": "27ee6339a540cb39",
   "metadata": {
    "collapsed": false
   },
   "source": [
    "Once the .netrc includes your credentials, you can initialize the HyP3 object without passing any arguments:"
   ]
  },
  {
   "cell_type": "code",
   "execution_count": null,
   "id": "e7bb4b87181a5660",
   "metadata": {
    "collapsed": false
   },
   "outputs": [],
   "source": [
    "hyp3 = sdk.HyP3()"
   ]
  }
 ],
 "metadata": {
  "kernelspec": {
   "display_name": "Python 3 (ipykernel)",
   "language": "python",
   "name": "python3"
  },
  "language_info": {
   "codemirror_mode": {
    "name": "ipython",
    "version": 3
   },
   "file_extension": ".py",
   "mimetype": "text/x-python",
   "name": "python",
   "nbconvert_exporter": "python",
   "pygments_lexer": "ipython3",
   "version": "3.11.13"
  }
 },
 "nbformat": 4,
 "nbformat_minor": 5
}
