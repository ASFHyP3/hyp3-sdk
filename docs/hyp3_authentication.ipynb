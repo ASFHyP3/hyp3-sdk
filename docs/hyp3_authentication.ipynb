{
 "cells": [
  {
   "cell_type": "markdown",
   "id": "c71ac86b03faa125",
   "metadata": {
    "collapsed": false
   },
   "source": [
    "# Authenticating a HyP3 Session with the SDK\n",
    "\n",
    "When initializing a HyP3 object with the HyP3 SDK, you have three options:\n",
    "1. Input your username and password\n",
    "2. Input your EDL Bearer Token\n",
    "3. Store your credentials locally in a .netrc file in your home directory\n",
    "\n",
    "This tutorial will walk you through each of these authentication methods. If you have not created an EarthData Login account yet, make sure to do so here: https://urs.earthdata.nasa.gov/users/new.\n",
    "\n",
    "Likewise, before starting, make sure you have `hyp3-sdk` installed locally and ensure the version >9.6.0."
   ]
  },
  {
   "cell_type": "code",
   "execution_count": null,
   "id": "6b0bbf63de13b184",
   "metadata": {
    "collapsed": false
   },
   "outputs": [],
   "source": [
    "pip install hyp3-sdk>-9.6.0"
   ]
  },
  {
   "cell_type": "markdown",
   "id": "6a29e00aa30bdf90",
   "metadata": {
    "collapsed": false
   },
   "source": [
    "## Using your username and password\n",
    "This option requires minimal amount of set up. All you need is to know your EDL username and password. "
   ]
  },
  {
   "cell_type": "code",
   "execution_count": null,
   "id": "3fa21cf01ff3ca32",
   "metadata": {
    "collapsed": false
   },
   "outputs": [],
   "source": [
    "import hyp3_sdk as sdk\n",
    "\n",
    "\n",
    "HyP3 = sdk.HyP3(prompt=True)"
   ]
  },
  {
   "cell_type": "markdown",
   "id": "1095f5668639490b",
   "metadata": {
    "collapsed": false
   },
   "source": [
    "If you do not want to be prompted every time you initialize HyP3, you can simply hard-code your username and password. "
   ]
  },
  {
   "cell_type": "code",
   "execution_count": null,
   "id": "f2b96d74e0d60fc1",
   "metadata": {
    "collapsed": false
   },
   "outputs": [],
   "source": [
    "import hyp3_sdk as sdk\n",
    "\n",
    "\n",
    "username = 'username'\n",
    "password = 'password'\n",
    "\n",
    "HyP3 = sdk.HyP3(username=username, password=password)"
   ]
  },
  {
   "cell_type": "markdown",
   "id": "4d0b9fa22a7d6aa",
   "metadata": {
    "collapsed": false
   },
   "source": [
    "## Using you EDL Bearer Token\n",
    "Similarly to a username and password, you can authenticate your HyP3 object using your EDL token. Follow this documentation to create one if you would like to create a token: https://urs.earthdata.nasa.gov/documentation/for_users/user_token.\n",
    "\n",
    "Once that token is set up, you can pass it to the sdk as a `token` variable. "
   ]
  },
  {
   "cell_type": "code",
   "execution_count": null,
   "id": "ae92262a7e05b711",
   "metadata": {
    "collapsed": false
   },
   "outputs": [],
   "source": [
    "import hyp3_sdk as sdk\n",
    "\n",
    "\n",
    "token = 'copypasteyourtokenstringhere'\n",
    "HyP3 = sdk.HyP3(token=token)"
   ]
  },
  {
   "cell_type": "markdown",
   "id": "c9fd77b21a1122bb",
   "metadata": {
    "collapsed": false
   },
   "source": [
    "## Using a local .netrc file\n",
    "This option take a bit more effort to set up but saves time in the long run. On your local computer in the home directory, you will have a .netrc file. \n",
    "\n",
    "In the terminal run the following command, replacing the `$USER_ID` and `$PASSWORD` variables with your EDL username and password, respectively."
   ]
  },
  {
   "cell_type": "code",
   "execution_count": null,
   "id": "561b0abd53726fec",
   "metadata": {
    "collapsed": false
   },
   "outputs": [],
   "source": [
    "cd ~\n",
    "touch .netrc\n",
    "echo \"machine urs.earthdata.nasa.gov login $USER_ID password $PASSWORD\" > .netrc\n",
    "chmod 0600 .netrc"
   ]
  },
  {
   "cell_type": "markdown",
   "id": "27ee6339a540cb39",
   "metadata": {
    "collapsed": false
   },
   "source": [
    "Now, when you initialize the HyP3 object, all you have to do is call the HyP3 object and your credentials will be pulled from the .netrc file.  "
   ]
  },
  {
   "cell_type": "code",
   "execution_count": null,
   "id": "e7bb4b87181a5660",
   "metadata": {
    "collapsed": false
   },
   "outputs": [],
   "source": [
    "import hyp3_sdk as sdk\n",
    "\n",
    "\n",
    "HyP3 = sdk.HyP3()"
   ]
  }
 ],
 "metadata": {
  "kernelspec": {
   "display_name": "Python 3",
   "language": "python",
   "name": "python3"
  },
  "language_info": {
   "codemirror_mode": {
    "name": "ipython",
    "version": 2
   },
   "file_extension": ".py",
   "mimetype": "text/x-python",
   "name": "python",
   "nbconvert_exporter": "python",
   "pygments_lexer": "ipython2",
   "version": "2.7.6"
  }
 },
 "nbformat": 4,
 "nbformat_minor": 5
}
